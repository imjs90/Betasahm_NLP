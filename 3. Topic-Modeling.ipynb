{
 "cells": [
  {
   "cell_type": "code",
   "execution_count": null,
   "metadata": {},
   "outputs": [],
   "source": [
    "# Let's read in our document-term matrix\n",
    "import pandas as pd\n",
    "import pickle\n",
    "\n",
    "data = pd.read_pickle('dtm_stop.pkl')\n",
    "data"
   ]
  },
  {
   "cell_type": "code",
   "execution_count": null,
   "metadata": {},
   "outputs": [],
   "source": [
    "# Import the necessary modules for LDA with gensim\n",
    "# Terminal / Anaconda Navigator: conda install -c conda-forge gensim\n",
    "from gensim import matutils, models\n",
    "import scipy.sparse\n",
    "\n",
    "# import logging\n",
    "# logging.basicConfig(format='%(asctime)s : %(levelname)s : %(message)s', level=logging.INFO)"
   ]
  },
  {
   "cell_type": "code",
   "execution_count": null,
   "metadata": {},
   "outputs": [],
   "source": [
    "# One of the required inputs is a term-document matrix\n",
    "tdm = data.transpose()\n",
    "tdm.head()"
   ]
  },
  {
   "cell_type": "code",
   "execution_count": null,
   "metadata": {},
   "outputs": [],
   "source": [
    "# We're going to put the term-document matrix into a new gensim format, from df --> sparse matrix --> gensim corpus\n",
    "sparse_counts = scipy.sparse.csr_matrix(tdm)\n",
    "corpus = matutils.Sparse2Corpus(sparse_counts)"
   ]
  },
  {
   "cell_type": "code",
   "execution_count": null,
   "metadata": {},
   "outputs": [],
   "source": [
    "# Gensim also requires dictionary of the all terms and their respective location in the term-document matrix\n",
    "cv = pickle.load(open(\"cv_stop.pkl\", \"rb\"))\n",
    "id2word = dict((v, k) for k, v in cv.vocabulary_.items())"
   ]
  },
  {
   "cell_type": "code",
   "execution_count": 24,
   "metadata": {},
   "outputs": [
    {
     "data": {
      "text/plain": [
       "[(0,\n",
       "  '0.012*\"سرمایه\" + 0.010*\"سال\" + 0.008*\"مبلغ\" + 0.007*\"گزارش\" + 0.007*\"محقق\" + 0.006*\"مجمع\" + 0.006*\"افزایش\" + 0.006*\"میلیون\" + 0.006*\"ریالی\" + 0.006*\"گذاری\"'),\n",
       " (1,\n",
       "  '0.035*\"ریالی\" + 0.028*\"نرخ\" + 0.016*\"عدد\" + 0.016*\"مواجه\" + 0.013*\"خوبی\" + 0.013*\"عملیاتی\" + 0.012*\"رسیده\" + 0.012*\"ماه\" + 0.012*\"خوب\" + 0.012*\"سال\"')]"
      ]
     },
     "execution_count": 24,
     "metadata": {},
     "output_type": "execute_result"
    }
   ],
   "source": [
    "# Now that we have the corpus (term-document matrix) and id2word (dictionary of location: term),\n",
    "# we need to specify two other parameters as well - the number of topics and the number of passes\n",
    "lda = models.LdaModel(corpus=corpus, id2word=id2word, num_topics=2, passes=10)\n",
    "lda.print_topics()"
   ]
  },
  {
   "cell_type": "code",
   "execution_count": 25,
   "metadata": {},
   "outputs": [
    {
     "data": {
      "text/plain": [
       "[(0,\n",
       "  '0.014*\"سرمایه\" + 0.009*\"سال\" + 0.008*\"مبلغ\" + 0.007*\"مجمع\" + 0.007*\"محقق\" + 0.006*\"گزارش\" + 0.006*\"گذاری\" + 0.006*\"افزایش\" + 0.006*\"میلیون\" + 0.006*\"درامد\"'),\n",
       " (1,\n",
       "  '0.034*\"ریالی\" + 0.023*\"نرخ\" + 0.018*\"عدد\" + 0.015*\"مواجه\" + 0.014*\"خوبی\" + 0.013*\"رسیده\" + 0.013*\"خوب\" + 0.012*\"عملیاتی\" + 0.012*\"ماه\" + 0.012*\"سال\"'),\n",
       " (2,\n",
       "  '0.031*\"نرخ\" + 0.029*\"ریالی\" + 0.015*\"مواجه\" + 0.012*\"سال\" + 0.011*\"عملیاتی\" + 0.011*\"عدد\" + 0.010*\"خوبی\" + 0.010*\"ماه\" + 0.009*\"رشد\" + 0.009*\"محقق\"')]"
      ]
     },
     "execution_count": 25,
     "metadata": {},
     "output_type": "execute_result"
    }
   ],
   "source": [
    "# LDA for num_topics = 3\n",
    "lda = models.LdaModel(corpus=corpus, id2word=id2word, num_topics=3, passes=10)\n",
    "lda.print_topics()"
   ]
  },
  {
   "cell_type": "code",
   "execution_count": 26,
   "metadata": {},
   "outputs": [
    {
     "data": {
      "text/plain": [
       "[(0,\n",
       "  '0.032*\"نرخ\" + 0.030*\"ریالی\" + 0.013*\"عدد\" + 0.013*\"مواجه\" + 0.011*\"عملیاتی\" + 0.011*\"سال\" + 0.011*\"خوبی\" + 0.011*\"رسیده\" + 0.010*\"خوب\" + 0.010*\"محقق\"'),\n",
       " (1,\n",
       "  '0.014*\"سرمایه\" + 0.010*\"سال\" + 0.010*\"افزایش\" + 0.010*\"مبلغ\" + 0.009*\"ریالی\" + 0.008*\"رسیده\" + 0.008*\"مجمع\" + 0.008*\"محقق\" + 0.007*\"زیان\" + 0.007*\"گزارش\"'),\n",
       " (2,\n",
       "  '0.012*\"سرمایه\" + 0.010*\"سال\" + 0.008*\"بانک\" + 0.007*\"گذاری\" + 0.007*\"سهام\" + 0.006*\"محقق\" + 0.006*\"گزارش\" + 0.006*\"مبلغ\" + 0.006*\"میلیون\" + 0.006*\"مجمع\"'),\n",
       " (3,\n",
       "  '0.037*\"ریالی\" + 0.026*\"نرخ\" + 0.018*\"مواجه\" + 0.017*\"عدد\" + 0.014*\"خوبی\" + 0.013*\"عملیاتی\" + 0.013*\"ماه\" + 0.012*\"خوب\" + 0.012*\"رسیده\" + 0.012*\"سال\"')]"
      ]
     },
     "execution_count": 26,
     "metadata": {},
     "output_type": "execute_result"
    }
   ],
   "source": [
    "# LDA for num_topics = 4\n",
    "lda = models.LdaModel(corpus=corpus, id2word=id2word, num_topics=4, passes=10)\n",
    "lda.print_topics()"
   ]
  },
  {
   "cell_type": "markdown",
   "metadata": {},
   "source": [
    "# reference\n",
    "https://github.com/adashofdata/nlp-in-python-tutorial"
   ]
  }
 ],
 "metadata": {
  "kernelspec": {
   "display_name": "Python 3",
   "language": "python",
   "name": "python3"
  },
  "language_info": {
   "codemirror_mode": {
    "name": "ipython",
    "version": 3
   },
   "file_extension": ".py",
   "mimetype": "text/x-python",
   "name": "python",
   "nbconvert_exporter": "python",
   "pygments_lexer": "ipython3",
   "version": "3.7.4"
  }
 },
 "nbformat": 4,
 "nbformat_minor": 2
}
