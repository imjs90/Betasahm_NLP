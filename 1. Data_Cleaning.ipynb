{
 "cells": [
  {
   "cell_type": "code",
   "execution_count": null,
   "metadata": {},
   "outputs": [],
   "source": [
    "import numpy as np\n",
    "import pandas as pd\n",
    "import seaborn as sns\n",
    "import matplotlib.pyplot as plt\n",
    "%matplotlib inline\n",
    "from sklearn.preprocessing import MinMaxScaler\n",
    "from sklearn.model_selection import train_test_split\n",
    "from sklearn.metrics import accuracy_score, recall_score, precision_score\n",
    "from sklearn.linear_model import LinearRegression\n",
    "from sklearn.metrics import mean_absolute_error, mean_squared_error"
   ]
  },
  {
   "cell_type": "code",
   "execution_count": null,
   "metadata": {},
   "outputs": [],
   "source": [
    "pd.set_option('display.max_rows', None)\n",
    "df1 = pd.read_csv(\"D:/da/result.csv\")\n",
    "df1.head()"
   ]
  },
  {
   "cell_type": "code",
   "execution_count": null,
   "metadata": {},
   "outputs": [],
   "source": [
    "df2 = pd.read_csv(\"D:/da/betasahm1.csv\", header = None)\n",
    "df2.columns = [\"Date\", \"Post\"]\n",
    "df2.head(10)"
   ]
  },
  {
   "cell_type": "code",
   "execution_count": null,
   "metadata": {
    "scrolled": true
   },
   "outputs": [],
   "source": [
    "#extract hashtags world\n",
    "hashtags = df2.Post.str.findall(r'#.*?(?=\\s|$)')\n",
    "\n",
    "\n",
    "#insert the hashtags column in the data \n",
    "df2['hashtags'] = hashtags\n",
    "df2.head()"
   ]
  },
  {
   "cell_type": "code",
   "execution_count": null,
   "metadata": {},
   "outputs": [],
   "source": [
    "#delete empty square brackets\n",
    "hashtags_list_df = df2.loc[\n",
    "                       df2.hashtags.apply(\n",
    "                           lambda hashtags_list: hashtags_list !=[]\n",
    "                       ),['hashtags']]"
   ]
  },
  {
   "cell_type": "code",
   "execution_count": null,
   "metadata": {},
   "outputs": [],
   "source": [
    "#delete NaN row\n",
    "hashtags_list_df = hashtags_list_df.dropna()\n",
    "hashtags_list_df.head()"
   ]
  },
  {
   "cell_type": "code",
   "execution_count": null,
   "metadata": {},
   "outputs": [],
   "source": [
    "#insert the hashtags column in the data \n",
    "df2[\"hashtags\"] = hashtags_list_df\n",
    "df2.head()"
   ]
  },
  {
   "cell_type": "code",
   "execution_count": null,
   "metadata": {},
   "outputs": [],
   "source": [
    "#delete NaN rows \n",
    "df = df2.dropna()\n",
    "df.head()"
   ]
  },
  {
   "cell_type": "code",
   "execution_count": null,
   "metadata": {},
   "outputs": [],
   "source": [
    "df = df[['Date', 'hashtags', 'Post']]\n",
    "df.head()"
   ]
  },
  {
   "cell_type": "code",
   "execution_count": null,
   "metadata": {},
   "outputs": [],
   "source": [
    "pd.set_option(\"max_colwidth\", 2)\n",
    "df[[\"Date\",\"hashtags\", \"Post\"]].head(10)"
   ]
  },
  {
   "cell_type": "code",
   "execution_count": null,
   "metadata": {},
   "outputs": [],
   "source": [
    "foo = lambda a: \"/\".join(a) \n",
    "\n",
    "#merge posts with same hashtags worlds \n",
    "df = df.groupby(by=df.hashtags.astype(str)).agg({'Post': foo}).reset_index()\n",
    "df.head()"
   ]
  },
  {
   "cell_type": "code",
   "execution_count": null,
   "metadata": {},
   "outputs": [],
   "source": [
    "#split rows with more than one hashtag word and set post for them\n",
    "\n",
    "new_df = pd.DataFrame(df[\"hashtags\"].str.split(\" \",15).tolist(), index=df[\"Post\"]).stack()\n",
    "new_df = new_df.reset_index([0, \"Post\"])\n",
    "\n",
    "new_df.columns = [\"Post\", \"hashtags\"]\n",
    "new_df = new_df[[\"hashtags\", \"Post\"]]\n",
    "\n",
    "new_df.head()"
   ]
  },
  {
   "cell_type": "code",
   "execution_count": null,
   "metadata": {},
   "outputs": [],
   "source": [
    "#clean the hashtags column;round1\n",
    "from parsivar import Normalizer\n",
    "my_normalizer = Normalizer()\n",
    "\n",
    "def clean_text_round1(text):\n",
    "    text = my_normalizer.normalize(str(text))\n",
    "    return text\n",
    "round1 = lambda x: clean_text_round1(x) "
   ]
  },
  {
   "cell_type": "code",
   "execution_count": null,
   "metadata": {},
   "outputs": [],
   "source": [
    "#change hashtags columns to str type.\n",
    "new_df.hashtags = new_df.hashtags.astype(str)\n",
    "\n",
    "# Apply of cleaning hashtags columns\n",
    "clean_hashtags1 = pd.DataFrame(new_df.hashtags.apply(round1))\n",
    "clean_hashtags1"
   ]
  },
  {
   "cell_type": "code",
   "execution_count": null,
   "metadata": {},
   "outputs": [],
   "source": [
    "#clean the hashtags column;round2\n",
    "import re\n",
    "import string\n",
    "\n",
    "def clean_text_round2(text):\n",
    "    text = text.lower()\n",
    "    text = re.sub('[،]+', '', str(text))\n",
    "    text = re.sub('[%s]' % re.escape(string.punctuation), '', str(text))\n",
    "    text = re.sub('\\w*\\d\\w*', '', str(text))\n",
    "    return text\n",
    "\n",
    "round2 = lambda x: clean_text_round2(x) "
   ]
  },
  {
   "cell_type": "code",
   "execution_count": null,
   "metadata": {},
   "outputs": [],
   "source": [
    "#change hashtags columns to str type.\n",
    "clean_hashtags1.hashtags = clean_hashtags1.hashtags.astype(str)\n",
    "\n",
    "# Apply of clean_text_round2\n",
    "clean_hashtags2 = pd.DataFrame(clean_hashtags1.hashtags.apply(round2))\n",
    "clean_hashtags2"
   ]
  },
  {
   "cell_type": "code",
   "execution_count": null,
   "metadata": {},
   "outputs": [],
   "source": [
    "clean_hashtags2[\"Post\"] = new_df.Post\n",
    "data_clean = clean_hashtags2 \n",
    "data_clean.head(50)"
   ]
  },
  {
   "cell_type": "code",
   "execution_count": null,
   "metadata": {},
   "outputs": [],
   "source": [
    "foo = lambda a: \"/\".join(a) \n",
    "\n",
    "#merge posts with same hashtags worlds \n",
    "df = data_clean.groupby(by=data_clean.hashtags.astype(str)).agg({'Post': foo}).reset_index()\n",
    "df.head()"
   ]
  },
  {
   "cell_type": "code",
   "execution_count": null,
   "metadata": {},
   "outputs": [],
   "source": [
    "#delete fake hashtags word\n",
    "df = df.drop([0,1,2,13,18,25])\n",
    "df.head(54)"
   ]
  },
  {
   "cell_type": "code",
   "execution_count": null,
   "metadata": {},
   "outputs": [],
   "source": [
    "#change Post columns to str type.\n",
    "df.Post = df.Post.astype(str)\n",
    "\n",
    "# Apply a first round of cleaning\n",
    "clean_Post1 = pd.DataFrame(df.Post.apply(round1))\n",
    "clean_Post1.head()"
   ]
  },
  {
   "cell_type": "code",
   "execution_count": null,
   "metadata": {},
   "outputs": [],
   "source": [
    "# Apply a secound round of cleaning\n",
    "import re\n",
    "import string\n",
    "\n",
    "def clean_text_round2(text):\n",
    "    text = text.lower()\n",
    "    text = re.sub('[،]+', '', str(text))\n",
    "    text = re.sub('\\[.*?\\]', '', str(text))\n",
    "    text = re.sub('[%s]' % re.escape(string.punctuation), '', str(text))\n",
    "    text = re.sub('\\w*\\d\\w*', '', str(text))\n",
    "    return text\n",
    "\n",
    "round2 = lambda x: clean_text_round2(x) "
   ]
  },
  {
   "cell_type": "code",
   "execution_count": null,
   "metadata": {},
   "outputs": [],
   "source": [
    "#change Post columns to str type.\n",
    "clean_Post1.Post = clean_Post1.Post.astype(str)\n",
    "\n",
    "# Apply a first round of cleaning\n",
    "clean_Post2 = pd.DataFrame(clean_Post1.Post.apply(round2))\n",
    "clean_Post2.head()"
   ]
  },
  {
   "cell_type": "code",
   "execution_count": null,
   "metadata": {},
   "outputs": [],
   "source": [
    "# Apply a second round of cleaning\n",
    "def clean_text_round3(text):\n",
    "    '''Get rid of some additional punctuation and non-sensical text that was missed the first time around.'''\n",
    "    text = re.sub('[‘’“”…]', '', text)\n",
    "    text = re.sub('\\n', '', text)\n",
    "    return text\n",
    "\n",
    "round3 = lambda x: clean_text_round3(x)"
   ]
  },
  {
   "cell_type": "code",
   "execution_count": null,
   "metadata": {},
   "outputs": [],
   "source": [
    "#change Post columns to str type.\n",
    "clean_Post2.Post = clean_Post2.Post.astype(str)\n",
    "\n",
    "# Apply a first round of cleaning\n",
    "clean_Post3 = pd.DataFrame(clean_Post2.Post.apply(round3))\n",
    "clean_Post3.head()"
   ]
  },
  {
   "cell_type": "code",
   "execution_count": null,
   "metadata": {},
   "outputs": [],
   "source": [
    "clean_Post3[\"hashtags\"] = df.hashtags"
   ]
  },
  {
   "cell_type": "code",
   "execution_count": null,
   "metadata": {},
   "outputs": [],
   "source": [
    "#138, 368, 369, 370 (194,195), (224,225), (291,292), (302, 303), (389,390), (445,446), (476,477), 534, (582,583), (638,639), (717,718)\n",
    "df = clean_Post3[['hashtags', 'Post']]\n",
    "df.head()"
   ]
  },
  {
   "cell_type": "code",
   "execution_count": null,
   "metadata": {},
   "outputs": [],
   "source": [
    "# Let's pickle it for later use\n",
    "df.to_pickle(\"corpus.pkl\")"
   ]
  },
  {
   "cell_type": "code",
   "execution_count": null,
   "metadata": {
    "scrolled": true
   },
   "outputs": [],
   "source": [
    "# We are going to create a document-term matrix using CountVectorizer\n",
    "from sklearn.feature_extraction.text import CountVectorizer\n",
    "\n",
    "cv = CountVectorizer()\n",
    "data_cv = cv.fit_transform(df.Post)\n",
    "data_dtm = pd.DataFrame(data_cv.toarray(), columns=cv.get_feature_names())\n",
    "data_dtm.index = df.hashtags\n",
    "data_dtm.head()"
   ]
  },
  {
   "cell_type": "code",
   "execution_count": null,
   "metadata": {},
   "outputs": [],
   "source": [
    "# Let's pickle it for later use\n",
    "data_dtm.to_pickle(\"dtm.pkl\")"
   ]
  },
  {
   "cell_type": "code",
   "execution_count": null,
   "metadata": {},
   "outputs": [],
   "source": [
    "# Let's also pickle the cleaned data (before we put it in document-term matrix format) and the CountVectorizer object\n",
    "\n",
    "import pickle\n",
    "df.to_pickle('data_clean.pkl')\n",
    "pickle.dump(cv, open(\"cv.pkl\", \"wb\"))"
   ]
  }
 ],
 "metadata": {
  "kernelspec": {
   "display_name": "Python 3",
   "language": "python",
   "name": "python3"
  },
  "language_info": {
   "codemirror_mode": {
    "name": "ipython",
    "version": 3
   },
   "file_extension": ".py",
   "mimetype": "text/x-python",
   "name": "python",
   "nbconvert_exporter": "python",
   "pygments_lexer": "ipython3",
   "version": "3.7.4"
  }
 },
 "nbformat": 4,
 "nbformat_minor": 2
}
